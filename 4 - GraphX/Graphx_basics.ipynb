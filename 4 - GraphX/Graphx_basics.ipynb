{
 "cells": [
  {
   "cell_type": "markdown",
   "metadata": {},
   "source": [
    "# GraphX Basics\n",
    "\n",
    "Spark provides GraphX for graphs and graph-parallel computation. To support graph computation, GraphX extends Spark RDD and presents a set of fundamental operators (e.g., subgraph, joinVertices, and aggregateMessages) as well as an optimized variant of the Pregel API. This tutorial is going to get you started with the basics tasks, such as importing graphs in GraphX data strucutres as well as run some analytic tasks like connected components and triangle count."
   ]
  },
  {
   "cell_type": "code",
   "execution_count": 1,
   "metadata": {},
   "outputs": [],
   "source": [
    "import org.apache.spark._\n",
    "import org.apache.spark.graphx._\n",
    "import org.apache.spark.rdd.RDD\n",
    "import org.apache.spark.graphx.GraphLoader\n",
    "import org.apache.spark.sql.SparkSession"
   ]
  },
  {
   "cell_type": "markdown",
   "metadata": {},
   "source": [
    "### Some basics\n",
    "- The property graph is a directed multigraph with user defined objects attached to each vertex and edge\n",
    "- Each vertex has a unique 64-bit long identifier (VertexId), while edges are identified by the corresponding source and destination vertex identifiers\n",
    "- The property graph is parameterized over the vertex (VD) and edge (ED) types"
   ]
  },
  {
   "cell_type": "code",
   "execution_count": 2,
   "metadata": {},
   "outputs": [
    {
     "name": "stdout",
     "output_type": "stream",
     "text": [
      "\r",
      "                                                                                \r",
      "Bob retweeted 7 posts of Alice\n",
      "Bob retweeted 2 posts of Magnus\n",
      "Jussi retweeted 4 posts of Bob\n",
      "Jussi retweeted 3 posts of Martin\n",
      "Magnus retweeted 1 posts of Alice\n",
      "Michael retweeted 2 posts of Bob\n",
      "Michael retweeted 8 posts of Jussi\n",
      "Michael retweeted 3 posts of Martin\n"
     ]
    }
   ],
   "source": [
    "val vertexArray = Array(\n",
    "  (1L, (\"Alice\", 28)),\n",
    "  (2L, (\"Bob\", 27)),\n",
    "  (3L, (\"Jussi\", 35)),\n",
    "  (4L, (\"Magnus\", 42)),\n",
    "  (5L, (\"Michael\", 53)),\n",
    "  (6L, (\"Martin\", 40))\n",
    ")\n",
    "val edgeArray = Array(\n",
    "  Edge(2L, 1L, 7),\n",
    "  Edge(2L, 4L, 2),\n",
    "  Edge(3L, 2L, 4),\n",
    "  Edge(3L, 6L, 3),\n",
    "  Edge(4L, 1L, 1),\n",
    "  Edge(5L, 2L, 2),\n",
    "  Edge(5L, 3L, 8),\n",
    "  Edge(5L, 6L, 3)\n",
    ")\n",
    "\n",
    "val vertexRDD: RDD[(Long, (String, Int))] = sc.parallelize(vertexArray)\n",
    "val edgeRDD: RDD[Edge[Int]] = sc.parallelize(edgeArray)\n",
    "val graph: Graph[(String, Int), Int] = Graph(vertexRDD, edgeRDD)\n",
    "\n",
    "(graph.triplets\n",
    "    .map(trip => trip.srcAttr._1 + \" retweeted \" + trip.attr + \" posts of \" + trip.dstAttr._1)\n",
    "    .collect\n",
    "    .foreach(println))"
   ]
  },
  {
   "cell_type": "markdown",
   "metadata": {},
   "source": [
    "In many cases we will want to extract the vertex and edge RDD views of a graph. As a consequence, the graph class contains members (graph.vertices and graph.edges) to access the vertices and edges of the graph. While these members extend RDD[(VertexId, V)] and RDD[Edge[E]] they are actually backed by optimized representations that leverage the internal GraphX representation of graph data. Below, graph.vertices is used to display the names of the users who are at least 30 years old."
   ]
  },
  {
   "cell_type": "code",
   "execution_count": 3,
   "metadata": {},
   "outputs": [
    {
     "name": "stdout",
     "output_type": "stream",
     "text": [
      "Magnus is 42\n",
      "Michael is 53\n",
      "Martin is 40\n",
      "Jussi is 35\n"
     ]
    }
   ],
   "source": [
    "(graph.vertices\n",
    "    .filter { case (id, (name, age)) => age >30 }\n",
    "    .map(v => s\"${v._2._1} is ${v._2._2}\")\n",
    "    .collect\n",
    "    .foreach(println))"
   ]
  },
  {
   "cell_type": "markdown",
   "metadata": {},
   "source": [
    "What would be the output of the following?\n"
   ]
  },
  {
   "cell_type": "code",
   "execution_count": 4,
   "metadata": {},
   "outputs": [
    {
     "name": "stdout",
     "output_type": "stream",
     "text": [
      "Edge 2 -> 1\n",
      "Edge 5 -> 3\n"
     ]
    }
   ],
   "source": [
    "(graph.edges\n",
    "    .filter { case  Edge(src, dst, w) => w > 5 }\n",
    "    .map(e => s\"Edge ${e.srcId} -> ${e.dstId}\")\n",
    "    .collect\n",
    "    .foreach(println))"
   ]
  },
  {
   "cell_type": "code",
   "execution_count": 5,
   "metadata": {},
   "outputs": [
    {
     "name": "stdout",
     "output_type": "stream",
     "text": [
      "1 has 2 incoming edges\n",
      "2 has 2 incoming edges\n",
      "3 has 1 incoming edges\n",
      "4 has 1 incoming edges\n",
      "6 has 2 incoming edges\n"
     ]
    }
   ],
   "source": [
    "val inDegrees: VertexRDD[Int] = graph.inDegrees\n",
    "(inDegrees.sortByKey()\n",
    "    .map(in => s\"${in._1} has ${in._2} incoming edges\")\n",
    "    .collect\n",
    "    .foreach(println))"
   ]
  },
  {
   "cell_type": "markdown",
   "metadata": {},
   "source": [
    "### Subgraph Operator\n",
    "Suppose you want to study the community structure of subset of the nodes in the graph. To support this type of analysis GraphX includes the subgraph operator that takes vertex and edge predicates and returns the graph containing only the vertices that satisfy the vertex predicate (evaluate to true) and edges that satisfy the edge predicate and connect vertices that satisfy the vertex predicate."
   ]
  },
  {
   "cell_type": "code",
   "execution_count": 6,
   "metadata": {},
   "outputs": [
    {
     "name": "stdout",
     "output_type": "stream",
     "text": [
      "\r",
      "                                                                                \r",
      "[4] Magnus\n",
      "[5] Michael\n",
      "[6] Martin\n",
      "[3] Jussi\n"
     ]
    }
   ],
   "source": [
    "// Consider only users older than 30\n",
    "val oldies = graph.subgraph(vpred = (id, attr) => attr._2 > 30)\n",
    "\n",
    "(oldies.vertices\n",
    "    .map(v => s\"[${v._1}] ${v._2._1}\")\n",
    "    .collect\n",
    "    .foreach(println))"
   ]
  },
  {
   "cell_type": "code",
   "execution_count": 7,
   "metadata": {},
   "outputs": [
    {
     "name": "stdout",
     "output_type": "stream",
     "text": [
      "(4,4): [4] is in component #4\n",
      "(5,3): [5] is in component #3\n",
      "(6,3): [6] is in component #3\n",
      "(3,3): [3] is in component #3\n"
     ]
    }
   ],
   "source": [
    "// Compute the connected components\n",
    "val cc = oldies.connectedComponents\n",
    "(cc.vertices\n",
    "    .map(v => s\"${v}: [${v._1}] is in component #${v._2}\")\n",
    "    .collect\n",
    "    .foreach(println))"
   ]
  },
  {
   "cell_type": "code",
   "execution_count": 8,
   "metadata": {
    "scrolled": false
   },
   "outputs": [
    {
     "name": "stdout",
     "output_type": "stream",
     "text": [
      "Magnus is in component 4\n",
      "Michael is in component 3\n",
      "Martin is in component 3\n",
      "Jussi is in component 3\n"
     ]
    }
   ],
   "source": [
    "// Display the component id of each user:\n",
    "(oldies.vertices\n",
    "    .leftJoin(cc.vertices) {case (id, user, comp) => s\"${user._1} is in component ${comp.get}\"}\n",
    "    .collect\n",
    "    .foreach { case (id, str) => println(str) })"
   ]
  },
  {
   "cell_type": "markdown",
   "metadata": {},
   "source": [
    "### Join Operators\n",
    "In many cases it is necessary to join data from external collections (RDDs) with graphs. Let's incorporate the in and out degree of each vertex into the vertex property. To do this, we first define a User class to better organize the vertex property and build a new graph with the user property. We initialized each vertex with a 0 in/out degree. Then, we join the in and out degree information with each vertex building the new vertex property. Here we use the outerJoinVertices method of Graph that takes two argument lists: (i) an RDD of vertex values, and (ii) a function from the id, attribute, and Optional matching value in the RDD to a new vertex value."
   ]
  },
  {
   "cell_type": "code",
   "execution_count": 9,
   "metadata": {},
   "outputs": [],
   "source": [
    "// Define a class to more clearly model the user property\n",
    "case class User(name: String, age: Int, inDeg: Int, outDeg: Int) \n",
    "\n",
    "// Create a user Graph\n",
    "val initialUserGraph: Graph[User, Int] = graph.mapVertices { case (id, (name, age)) => User(name, age, 0, 0) }\n",
    "\n",
    "// Fill in the degree information\n",
    "val outDegrees: VertexRDD[Int] = graph.outDegrees\n",
    "val inDegrees: VertexRDD[Int] = graph.inDegrees\n",
    "\n",
    "val userGraph = initialUserGraph.outerJoinVertices(initialUserGraph.inDegrees) {\n",
    "  case (id, u, inDegOpt) => User(u.name, u.age, inDegOpt.getOrElse(0), u.outDeg)\n",
    "}.outerJoinVertices(initialUserGraph.outDegrees) {\n",
    "  case (id, u, outDegOpt) => User(u.name, u.age, u.inDeg, outDegOpt.getOrElse(0))\n",
    "}"
   ]
  },
  {
   "cell_type": "code",
   "execution_count": 10,
   "metadata": {},
   "outputs": [
    {
     "name": "stdout",
     "output_type": "stream",
     "text": [
      "User(Magnus,42,1,1)\n",
      "User(Alice,28,2,0)\n",
      "User(Martin,40,2,0)\n",
      "User(Bob,27,2,2)\n",
      "User(Jussi,35,1,2)\n"
     ]
    }
   ],
   "source": [
    "(userGraph.vertices\n",
    "    .filter { case (id, u) => u.inDeg >0 }\n",
    "    .map(v => s\"${v._2}\")\n",
    "    .collect\n",
    "    .foreach(println))"
   ]
  }
 ],
 "metadata": {
  "kernelspec": {
   "display_name": "Apache Toree - Scala",
   "language": "scala",
   "name": "apache_toree_scala"
  },
  "language_info": {
   "file_extension": ".scala",
   "name": "scala",
   "version": "2.11.8"
  }
 },
 "nbformat": 4,
 "nbformat_minor": 2
}
